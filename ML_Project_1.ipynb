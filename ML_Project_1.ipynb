{
  "nbformat": 4,
  "nbformat_minor": 0,
  "metadata": {
    "colab": {
      "name": "ML Project 1.ipynb",
      "provenance": [],
      "collapsed_sections": []
    },
    "kernelspec": {
      "name": "python3",
      "display_name": "Python 3"
    },
    "language_info": {
      "name": "python"
    }
  },
  "cells": [
    {
      "cell_type": "code",
      "metadata": {
        "id": "5keWviNc6ONO"
      },
      "source": [
        "import warnings\n",
        "warnings.filterwarnings('ignore')\n",
        "\n",
        "import pandas as pd\n",
        "import numpy as np\n",
        "import matplotlib.pyplot as plt\n",
        "import seaborn as sns\n",
        "\n",
        "import datetime as dt\n",
        "from datetime import timedelta\n",
        "\n",
        "from sklearn.metrics import mean_squared_error\n",
        "\n",
        "from fbprophet import Prophet"
      ],
      "execution_count": null,
      "outputs": []
    },
    {
      "cell_type": "code",
      "metadata": {
        "colab": {
          "base_uri": "https://localhost:8080/"
        },
        "id": "4Hb2bw8i0yze",
        "outputId": "ee458008-f619-47f9-fd45-4b5c2fb9304c"
      },
      "source": [
        "!pip install pmdarima\n",
        "from pmdarima.arima import auto_arima"
      ],
      "execution_count": null,
      "outputs": [
        {
          "output_type": "stream",
          "name": "stdout",
          "text": [
            "Requirement already satisfied: pmdarima in /usr/local/lib/python3.7/dist-packages (1.8.4)\n",
            "Requirement already satisfied: numpy>=1.19.3 in /usr/local/lib/python3.7/dist-packages (from pmdarima) (1.19.5)\n",
            "Requirement already satisfied: scipy>=1.3.2 in /usr/local/lib/python3.7/dist-packages (from pmdarima) (1.4.1)\n",
            "Requirement already satisfied: urllib3 in /usr/local/lib/python3.7/dist-packages (from pmdarima) (1.24.3)\n",
            "Requirement already satisfied: setuptools!=50.0.0,>=38.6.0 in /usr/local/lib/python3.7/dist-packages (from pmdarima) (57.4.0)\n",
            "Requirement already satisfied: Cython!=0.29.18,>=0.29 in /usr/local/lib/python3.7/dist-packages (from pmdarima) (0.29.24)\n",
            "Requirement already satisfied: scikit-learn>=0.22 in /usr/local/lib/python3.7/dist-packages (from pmdarima) (1.0.1)\n",
            "Requirement already satisfied: statsmodels!=0.12.0,>=0.11 in /usr/local/lib/python3.7/dist-packages (from pmdarima) (0.13.1)\n",
            "Requirement already satisfied: joblib>=0.11 in /usr/local/lib/python3.7/dist-packages (from pmdarima) (1.1.0)\n",
            "Requirement already satisfied: pandas>=0.19 in /usr/local/lib/python3.7/dist-packages (from pmdarima) (1.1.5)\n",
            "Requirement already satisfied: python-dateutil>=2.7.3 in /usr/local/lib/python3.7/dist-packages (from pandas>=0.19->pmdarima) (2.8.2)\n",
            "Requirement already satisfied: pytz>=2017.2 in /usr/local/lib/python3.7/dist-packages (from pandas>=0.19->pmdarima) (2018.9)\n",
            "Requirement already satisfied: six>=1.5 in /usr/local/lib/python3.7/dist-packages (from python-dateutil>=2.7.3->pandas>=0.19->pmdarima) (1.15.0)\n",
            "Requirement already satisfied: threadpoolctl>=2.0.0 in /usr/local/lib/python3.7/dist-packages (from scikit-learn>=0.22->pmdarima) (3.0.0)\n",
            "Requirement already satisfied: patsy>=0.5.2 in /usr/local/lib/python3.7/dist-packages (from statsmodels!=0.12.0,>=0.11->pmdarima) (0.5.2)\n"
          ]
        }
      ]
    },
    {
      "cell_type": "code",
      "metadata": {
        "id": "mwSAjhIhMcZf"
      },
      "source": [
        "# from google.colab import files\n",
        "# uploaded = files.upload()"
      ],
      "execution_count": null,
      "outputs": []
    },
    {
      "cell_type": "code",
      "metadata": {
        "id": "kdHWQcopNLUl"
      },
      "source": [
        "import io\n",
        "df = pd.read_csv(\"/content/sample_data/covid_19_data.csv\")\n",
        "# df = pd.read_csv(io.BytesIO(uploaded['covid_19_data.csv']))\n",
        "# Dataset is now stored in a Pandas Dataframe"
      ],
      "execution_count": null,
      "outputs": []
    },
    {
      "cell_type": "code",
      "metadata": {
        "colab": {
          "base_uri": "https://localhost:8080/",
          "height": 206
        },
        "id": "e5hCzaVZ6Z8W",
        "outputId": "35f7d593-9524-47b7-aadb-840847c0bd3c"
      },
      "source": [
        "df.head()"
      ],
      "execution_count": null,
      "outputs": [
        {
          "output_type": "execute_result",
          "data": {
            "text/html": [
              "<div>\n",
              "<style scoped>\n",
              "    .dataframe tbody tr th:only-of-type {\n",
              "        vertical-align: middle;\n",
              "    }\n",
              "\n",
              "    .dataframe tbody tr th {\n",
              "        vertical-align: top;\n",
              "    }\n",
              "\n",
              "    .dataframe thead th {\n",
              "        text-align: right;\n",
              "    }\n",
              "</style>\n",
              "<table border=\"1\" class=\"dataframe\">\n",
              "  <thead>\n",
              "    <tr style=\"text-align: right;\">\n",
              "      <th></th>\n",
              "      <th>SNo</th>\n",
              "      <th>ObservationDate</th>\n",
              "      <th>Province/State</th>\n",
              "      <th>Country/Region</th>\n",
              "      <th>Last Update</th>\n",
              "      <th>Confirmed</th>\n",
              "      <th>Deaths</th>\n",
              "      <th>Recovered</th>\n",
              "    </tr>\n",
              "  </thead>\n",
              "  <tbody>\n",
              "    <tr>\n",
              "      <th>0</th>\n",
              "      <td>1</td>\n",
              "      <td>01/22/2020</td>\n",
              "      <td>Anhui</td>\n",
              "      <td>Mainland China</td>\n",
              "      <td>1/22/2020 17:00</td>\n",
              "      <td>1.0</td>\n",
              "      <td>0.0</td>\n",
              "      <td>0.0</td>\n",
              "    </tr>\n",
              "    <tr>\n",
              "      <th>1</th>\n",
              "      <td>2</td>\n",
              "      <td>01/22/2020</td>\n",
              "      <td>Beijing</td>\n",
              "      <td>Mainland China</td>\n",
              "      <td>1/22/2020 17:00</td>\n",
              "      <td>14.0</td>\n",
              "      <td>0.0</td>\n",
              "      <td>0.0</td>\n",
              "    </tr>\n",
              "    <tr>\n",
              "      <th>2</th>\n",
              "      <td>3</td>\n",
              "      <td>01/22/2020</td>\n",
              "      <td>Chongqing</td>\n",
              "      <td>Mainland China</td>\n",
              "      <td>1/22/2020 17:00</td>\n",
              "      <td>6.0</td>\n",
              "      <td>0.0</td>\n",
              "      <td>0.0</td>\n",
              "    </tr>\n",
              "    <tr>\n",
              "      <th>3</th>\n",
              "      <td>4</td>\n",
              "      <td>01/22/2020</td>\n",
              "      <td>Fujian</td>\n",
              "      <td>Mainland China</td>\n",
              "      <td>1/22/2020 17:00</td>\n",
              "      <td>1.0</td>\n",
              "      <td>0.0</td>\n",
              "      <td>0.0</td>\n",
              "    </tr>\n",
              "    <tr>\n",
              "      <th>4</th>\n",
              "      <td>5</td>\n",
              "      <td>01/22/2020</td>\n",
              "      <td>Gansu</td>\n",
              "      <td>Mainland China</td>\n",
              "      <td>1/22/2020 17:00</td>\n",
              "      <td>0.0</td>\n",
              "      <td>0.0</td>\n",
              "      <td>0.0</td>\n",
              "    </tr>\n",
              "  </tbody>\n",
              "</table>\n",
              "</div>"
            ],
            "text/plain": [
              "   SNo ObservationDate Province/State  ... Confirmed Deaths  Recovered\n",
              "0    1      01/22/2020          Anhui  ...       1.0    0.0        0.0\n",
              "1    2      01/22/2020        Beijing  ...      14.0    0.0        0.0\n",
              "2    3      01/22/2020      Chongqing  ...       6.0    0.0        0.0\n",
              "3    4      01/22/2020         Fujian  ...       1.0    0.0        0.0\n",
              "4    5      01/22/2020          Gansu  ...       0.0    0.0        0.0\n",
              "\n",
              "[5 rows x 8 columns]"
            ]
          },
          "metadata": {},
          "execution_count": 81
        }
      ]
    },
    {
      "cell_type": "code",
      "metadata": {
        "colab": {
          "base_uri": "https://localhost:8080/"
        },
        "id": "DJ6xw5-8BD_S",
        "outputId": "61a0b23d-20bd-48b2-c667-5393d96d16fb"
      },
      "source": [
        "df.isnull().sum()"
      ],
      "execution_count": null,
      "outputs": [
        {
          "output_type": "execute_result",
          "data": {
            "text/plain": [
              "SNo                    0\n",
              "ObservationDate        0\n",
              "Province/State     78100\n",
              "Country/Region         0\n",
              "Last Update            0\n",
              "Confirmed              0\n",
              "Deaths                 0\n",
              "Recovered              0\n",
              "dtype: int64"
            ]
          },
          "metadata": {},
          "execution_count": 82
        }
      ]
    },
    {
      "cell_type": "code",
      "metadata": {
        "id": "gaXx7Bd-Fvn9"
      },
      "source": [
        "df.drop([\"SNo\"],1,inplace=True)"
      ],
      "execution_count": null,
      "outputs": []
    },
    {
      "cell_type": "code",
      "metadata": {
        "colab": {
          "base_uri": "https://localhost:8080/",
          "height": 206
        },
        "id": "pJZouQH7Gip9",
        "outputId": "a5011978-234a-4a29-d9cf-4a66fce04c2d"
      },
      "source": [
        "df.head()"
      ],
      "execution_count": null,
      "outputs": [
        {
          "output_type": "execute_result",
          "data": {
            "text/html": [
              "<div>\n",
              "<style scoped>\n",
              "    .dataframe tbody tr th:only-of-type {\n",
              "        vertical-align: middle;\n",
              "    }\n",
              "\n",
              "    .dataframe tbody tr th {\n",
              "        vertical-align: top;\n",
              "    }\n",
              "\n",
              "    .dataframe thead th {\n",
              "        text-align: right;\n",
              "    }\n",
              "</style>\n",
              "<table border=\"1\" class=\"dataframe\">\n",
              "  <thead>\n",
              "    <tr style=\"text-align: right;\">\n",
              "      <th></th>\n",
              "      <th>ObservationDate</th>\n",
              "      <th>Province/State</th>\n",
              "      <th>Country/Region</th>\n",
              "      <th>Last Update</th>\n",
              "      <th>Confirmed</th>\n",
              "      <th>Deaths</th>\n",
              "      <th>Recovered</th>\n",
              "    </tr>\n",
              "  </thead>\n",
              "  <tbody>\n",
              "    <tr>\n",
              "      <th>0</th>\n",
              "      <td>01/22/2020</td>\n",
              "      <td>Anhui</td>\n",
              "      <td>Mainland China</td>\n",
              "      <td>1/22/2020 17:00</td>\n",
              "      <td>1.0</td>\n",
              "      <td>0.0</td>\n",
              "      <td>0.0</td>\n",
              "    </tr>\n",
              "    <tr>\n",
              "      <th>1</th>\n",
              "      <td>01/22/2020</td>\n",
              "      <td>Beijing</td>\n",
              "      <td>Mainland China</td>\n",
              "      <td>1/22/2020 17:00</td>\n",
              "      <td>14.0</td>\n",
              "      <td>0.0</td>\n",
              "      <td>0.0</td>\n",
              "    </tr>\n",
              "    <tr>\n",
              "      <th>2</th>\n",
              "      <td>01/22/2020</td>\n",
              "      <td>Chongqing</td>\n",
              "      <td>Mainland China</td>\n",
              "      <td>1/22/2020 17:00</td>\n",
              "      <td>6.0</td>\n",
              "      <td>0.0</td>\n",
              "      <td>0.0</td>\n",
              "    </tr>\n",
              "    <tr>\n",
              "      <th>3</th>\n",
              "      <td>01/22/2020</td>\n",
              "      <td>Fujian</td>\n",
              "      <td>Mainland China</td>\n",
              "      <td>1/22/2020 17:00</td>\n",
              "      <td>1.0</td>\n",
              "      <td>0.0</td>\n",
              "      <td>0.0</td>\n",
              "    </tr>\n",
              "    <tr>\n",
              "      <th>4</th>\n",
              "      <td>01/22/2020</td>\n",
              "      <td>Gansu</td>\n",
              "      <td>Mainland China</td>\n",
              "      <td>1/22/2020 17:00</td>\n",
              "      <td>0.0</td>\n",
              "      <td>0.0</td>\n",
              "      <td>0.0</td>\n",
              "    </tr>\n",
              "  </tbody>\n",
              "</table>\n",
              "</div>"
            ],
            "text/plain": [
              "  ObservationDate Province/State  Country/Region  ... Confirmed  Deaths  Recovered\n",
              "0      01/22/2020          Anhui  Mainland China  ...       1.0     0.0        0.0\n",
              "1      01/22/2020        Beijing  Mainland China  ...      14.0     0.0        0.0\n",
              "2      01/22/2020      Chongqing  Mainland China  ...       6.0     0.0        0.0\n",
              "3      01/22/2020         Fujian  Mainland China  ...       1.0     0.0        0.0\n",
              "4      01/22/2020          Gansu  Mainland China  ...       0.0     0.0        0.0\n",
              "\n",
              "[5 rows x 7 columns]"
            ]
          },
          "metadata": {},
          "execution_count": 84
        }
      ]
    },
    {
      "cell_type": "code",
      "metadata": {
        "id": "4lpE_VYxGm3B"
      },
      "source": [
        "#Converting \"Observation Date\" into Datetime format\n",
        "df[\"ObservationDate\"]=pd.to_datetime(df[\"ObservationDate\"])"
      ],
      "execution_count": null,
      "outputs": []
    },
    {
      "cell_type": "code",
      "metadata": {
        "colab": {
          "base_uri": "https://localhost:8080/",
          "height": 206
        },
        "id": "zVf3AlR6HZLg",
        "outputId": "5f1e287e-c3d9-4b2e-ee5b-25da742e7484"
      },
      "source": [
        "df.head(5)"
      ],
      "execution_count": null,
      "outputs": [
        {
          "output_type": "execute_result",
          "data": {
            "text/html": [
              "<div>\n",
              "<style scoped>\n",
              "    .dataframe tbody tr th:only-of-type {\n",
              "        vertical-align: middle;\n",
              "    }\n",
              "\n",
              "    .dataframe tbody tr th {\n",
              "        vertical-align: top;\n",
              "    }\n",
              "\n",
              "    .dataframe thead th {\n",
              "        text-align: right;\n",
              "    }\n",
              "</style>\n",
              "<table border=\"1\" class=\"dataframe\">\n",
              "  <thead>\n",
              "    <tr style=\"text-align: right;\">\n",
              "      <th></th>\n",
              "      <th>ObservationDate</th>\n",
              "      <th>Province/State</th>\n",
              "      <th>Country/Region</th>\n",
              "      <th>Last Update</th>\n",
              "      <th>Confirmed</th>\n",
              "      <th>Deaths</th>\n",
              "      <th>Recovered</th>\n",
              "    </tr>\n",
              "  </thead>\n",
              "  <tbody>\n",
              "    <tr>\n",
              "      <th>0</th>\n",
              "      <td>2020-01-22</td>\n",
              "      <td>Anhui</td>\n",
              "      <td>Mainland China</td>\n",
              "      <td>1/22/2020 17:00</td>\n",
              "      <td>1.0</td>\n",
              "      <td>0.0</td>\n",
              "      <td>0.0</td>\n",
              "    </tr>\n",
              "    <tr>\n",
              "      <th>1</th>\n",
              "      <td>2020-01-22</td>\n",
              "      <td>Beijing</td>\n",
              "      <td>Mainland China</td>\n",
              "      <td>1/22/2020 17:00</td>\n",
              "      <td>14.0</td>\n",
              "      <td>0.0</td>\n",
              "      <td>0.0</td>\n",
              "    </tr>\n",
              "    <tr>\n",
              "      <th>2</th>\n",
              "      <td>2020-01-22</td>\n",
              "      <td>Chongqing</td>\n",
              "      <td>Mainland China</td>\n",
              "      <td>1/22/2020 17:00</td>\n",
              "      <td>6.0</td>\n",
              "      <td>0.0</td>\n",
              "      <td>0.0</td>\n",
              "    </tr>\n",
              "    <tr>\n",
              "      <th>3</th>\n",
              "      <td>2020-01-22</td>\n",
              "      <td>Fujian</td>\n",
              "      <td>Mainland China</td>\n",
              "      <td>1/22/2020 17:00</td>\n",
              "      <td>1.0</td>\n",
              "      <td>0.0</td>\n",
              "      <td>0.0</td>\n",
              "    </tr>\n",
              "    <tr>\n",
              "      <th>4</th>\n",
              "      <td>2020-01-22</td>\n",
              "      <td>Gansu</td>\n",
              "      <td>Mainland China</td>\n",
              "      <td>1/22/2020 17:00</td>\n",
              "      <td>0.0</td>\n",
              "      <td>0.0</td>\n",
              "      <td>0.0</td>\n",
              "    </tr>\n",
              "  </tbody>\n",
              "</table>\n",
              "</div>"
            ],
            "text/plain": [
              "  ObservationDate Province/State  Country/Region  ... Confirmed  Deaths  Recovered\n",
              "0      2020-01-22          Anhui  Mainland China  ...       1.0     0.0        0.0\n",
              "1      2020-01-22        Beijing  Mainland China  ...      14.0     0.0        0.0\n",
              "2      2020-01-22      Chongqing  Mainland China  ...       6.0     0.0        0.0\n",
              "3      2020-01-22         Fujian  Mainland China  ...       1.0     0.0        0.0\n",
              "4      2020-01-22          Gansu  Mainland China  ...       0.0     0.0        0.0\n",
              "\n",
              "[5 rows x 7 columns]"
            ]
          },
          "metadata": {},
          "execution_count": 86
        }
      ]
    },
    {
      "cell_type": "code",
      "metadata": {
        "colab": {
          "base_uri": "https://localhost:8080/",
          "height": 455
        },
        "id": "b3qpwJk8SxUs",
        "outputId": "8ea63ce0-423c-49d2-815d-4cf56732d81b"
      },
      "source": [
        "#Country wise Visualisation of COVID-19. \n",
        "groupby_country=df[df[\"ObservationDate\"]==df[\"ObservationDate\"].max()].groupby([\"Country/Region\"]).agg({\"Confirmed\":'sum',\"Recovered\":'sum',\"Deaths\":'sum'}).sort_values([\"Confirmed\"],ascending=False)\n",
        "groupby_country"
      ],
      "execution_count": null,
      "outputs": [
        {
          "output_type": "execute_result",
          "data": {
            "text/html": [
              "<div>\n",
              "<style scoped>\n",
              "    .dataframe tbody tr th:only-of-type {\n",
              "        vertical-align: middle;\n",
              "    }\n",
              "\n",
              "    .dataframe tbody tr th {\n",
              "        vertical-align: top;\n",
              "    }\n",
              "\n",
              "    .dataframe thead th {\n",
              "        text-align: right;\n",
              "    }\n",
              "</style>\n",
              "<table border=\"1\" class=\"dataframe\">\n",
              "  <thead>\n",
              "    <tr style=\"text-align: right;\">\n",
              "      <th></th>\n",
              "      <th>Confirmed</th>\n",
              "      <th>Recovered</th>\n",
              "      <th>Deaths</th>\n",
              "    </tr>\n",
              "    <tr>\n",
              "      <th>Country/Region</th>\n",
              "      <th></th>\n",
              "      <th></th>\n",
              "      <th></th>\n",
              "    </tr>\n",
              "  </thead>\n",
              "  <tbody>\n",
              "    <tr>\n",
              "      <th>US</th>\n",
              "      <td>33251939.0</td>\n",
              "      <td>0.0</td>\n",
              "      <td>594306.0</td>\n",
              "    </tr>\n",
              "    <tr>\n",
              "      <th>India</th>\n",
              "      <td>27894800.0</td>\n",
              "      <td>25454320.0</td>\n",
              "      <td>325972.0</td>\n",
              "    </tr>\n",
              "    <tr>\n",
              "      <th>Brazil</th>\n",
              "      <td>16471600.0</td>\n",
              "      <td>14496224.0</td>\n",
              "      <td>461057.0</td>\n",
              "    </tr>\n",
              "    <tr>\n",
              "      <th>France</th>\n",
              "      <td>5719877.0</td>\n",
              "      <td>390878.0</td>\n",
              "      <td>109518.0</td>\n",
              "    </tr>\n",
              "    <tr>\n",
              "      <th>Turkey</th>\n",
              "      <td>5235978.0</td>\n",
              "      <td>5094279.0</td>\n",
              "      <td>47271.0</td>\n",
              "    </tr>\n",
              "    <tr>\n",
              "      <th>...</th>\n",
              "      <td>...</td>\n",
              "      <td>...</td>\n",
              "      <td>...</td>\n",
              "    </tr>\n",
              "    <tr>\n",
              "      <th>Vanuatu</th>\n",
              "      <td>4.0</td>\n",
              "      <td>3.0</td>\n",
              "      <td>1.0</td>\n",
              "    </tr>\n",
              "    <tr>\n",
              "      <th>Marshall Islands</th>\n",
              "      <td>4.0</td>\n",
              "      <td>4.0</td>\n",
              "      <td>0.0</td>\n",
              "    </tr>\n",
              "    <tr>\n",
              "      <th>Samoa</th>\n",
              "      <td>3.0</td>\n",
              "      <td>3.0</td>\n",
              "      <td>0.0</td>\n",
              "    </tr>\n",
              "    <tr>\n",
              "      <th>Kiribati</th>\n",
              "      <td>2.0</td>\n",
              "      <td>0.0</td>\n",
              "      <td>0.0</td>\n",
              "    </tr>\n",
              "    <tr>\n",
              "      <th>Micronesia</th>\n",
              "      <td>1.0</td>\n",
              "      <td>1.0</td>\n",
              "      <td>0.0</td>\n",
              "    </tr>\n",
              "  </tbody>\n",
              "</table>\n",
              "<p>195 rows × 3 columns</p>\n",
              "</div>"
            ],
            "text/plain": [
              "                   Confirmed   Recovered    Deaths\n",
              "Country/Region                                    \n",
              "US                33251939.0         0.0  594306.0\n",
              "India             27894800.0  25454320.0  325972.0\n",
              "Brazil            16471600.0  14496224.0  461057.0\n",
              "France             5719877.0    390878.0  109518.0\n",
              "Turkey             5235978.0   5094279.0   47271.0\n",
              "...                      ...         ...       ...\n",
              "Vanuatu                  4.0         3.0       1.0\n",
              "Marshall Islands         4.0         4.0       0.0\n",
              "Samoa                    3.0         3.0       0.0\n",
              "Kiribati                 2.0         0.0       0.0\n",
              "Micronesia               1.0         1.0       0.0\n",
              "\n",
              "[195 rows x 3 columns]"
            ]
          },
          "metadata": {},
          "execution_count": 87
        }
      ]
    },
    {
      "cell_type": "code",
      "metadata": {
        "colab": {
          "base_uri": "https://localhost:8080/",
          "height": 238
        },
        "id": "bXwmEKC1MQgn",
        "outputId": "256dc313-8414-4f03-cb6c-dbb52ffa6c01"
      },
      "source": [
        "grouped_country=df.groupby([\"Country/Region\",\"ObservationDate\"]).agg({\"Confirmed\":'sum',\"Recovered\":'sum',\"Deaths\":'sum'})\n",
        "grouped_country[\"Active Cases\"]=grouped_country[\"Confirmed\"]-grouped_country[\"Recovered\"]-grouped_country[\"Deaths\"]\n",
        "grouped_country[\"log_confirmed\"]=np.log(grouped_country[\"Confirmed\"])\n",
        "grouped_country[\"log_active\"]=np.log(grouped_country[\"Active Cases\"])\n",
        "grouped_country.head()"
      ],
      "execution_count": null,
      "outputs": [
        {
          "output_type": "execute_result",
          "data": {
            "text/html": [
              "<div>\n",
              "<style scoped>\n",
              "    .dataframe tbody tr th:only-of-type {\n",
              "        vertical-align: middle;\n",
              "    }\n",
              "\n",
              "    .dataframe tbody tr th {\n",
              "        vertical-align: top;\n",
              "    }\n",
              "\n",
              "    .dataframe thead th {\n",
              "        text-align: right;\n",
              "    }\n",
              "</style>\n",
              "<table border=\"1\" class=\"dataframe\">\n",
              "  <thead>\n",
              "    <tr style=\"text-align: right;\">\n",
              "      <th></th>\n",
              "      <th></th>\n",
              "      <th>Confirmed</th>\n",
              "      <th>Recovered</th>\n",
              "      <th>Deaths</th>\n",
              "      <th>Active Cases</th>\n",
              "      <th>log_confirmed</th>\n",
              "      <th>log_active</th>\n",
              "    </tr>\n",
              "    <tr>\n",
              "      <th>Country/Region</th>\n",
              "      <th>ObservationDate</th>\n",
              "      <th></th>\n",
              "      <th></th>\n",
              "      <th></th>\n",
              "      <th></th>\n",
              "      <th></th>\n",
              "      <th></th>\n",
              "    </tr>\n",
              "  </thead>\n",
              "  <tbody>\n",
              "    <tr>\n",
              "      <th>Azerbaijan</th>\n",
              "      <th>2020-02-28</th>\n",
              "      <td>1.0</td>\n",
              "      <td>0.0</td>\n",
              "      <td>0.0</td>\n",
              "      <td>1.0</td>\n",
              "      <td>0.000000</td>\n",
              "      <td>0.000000</td>\n",
              "    </tr>\n",
              "    <tr>\n",
              "      <th>('St. Martin',)</th>\n",
              "      <th>2020-03-10</th>\n",
              "      <td>2.0</td>\n",
              "      <td>0.0</td>\n",
              "      <td>0.0</td>\n",
              "      <td>2.0</td>\n",
              "      <td>0.693147</td>\n",
              "      <td>0.693147</td>\n",
              "    </tr>\n",
              "    <tr>\n",
              "      <th rowspan=\"3\" valign=\"top\">Afghanistan</th>\n",
              "      <th>2020-02-24</th>\n",
              "      <td>1.0</td>\n",
              "      <td>0.0</td>\n",
              "      <td>0.0</td>\n",
              "      <td>1.0</td>\n",
              "      <td>0.000000</td>\n",
              "      <td>0.000000</td>\n",
              "    </tr>\n",
              "    <tr>\n",
              "      <th>2020-02-25</th>\n",
              "      <td>1.0</td>\n",
              "      <td>0.0</td>\n",
              "      <td>0.0</td>\n",
              "      <td>1.0</td>\n",
              "      <td>0.000000</td>\n",
              "      <td>0.000000</td>\n",
              "    </tr>\n",
              "    <tr>\n",
              "      <th>2020-02-26</th>\n",
              "      <td>1.0</td>\n",
              "      <td>0.0</td>\n",
              "      <td>0.0</td>\n",
              "      <td>1.0</td>\n",
              "      <td>0.000000</td>\n",
              "      <td>0.000000</td>\n",
              "    </tr>\n",
              "  </tbody>\n",
              "</table>\n",
              "</div>"
            ],
            "text/plain": [
              "                                 Confirmed  ...  log_active\n",
              "Country/Region  ObservationDate             ...            \n",
              " Azerbaijan     2020-02-28             1.0  ...    0.000000\n",
              "('St. Martin',) 2020-03-10             2.0  ...    0.693147\n",
              "Afghanistan     2020-02-24             1.0  ...    0.000000\n",
              "                2020-02-25             1.0  ...    0.000000\n",
              "                2020-02-26             1.0  ...    0.000000\n",
              "\n",
              "[5 rows x 6 columns]"
            ]
          },
          "metadata": {},
          "execution_count": 88
        }
      ]
    },
    {
      "cell_type": "code",
      "metadata": {
        "colab": {
          "base_uri": "https://localhost:8080/",
          "height": 295
        },
        "id": "laInp1nSsHhV",
        "outputId": "37ac908f-4282-4d9d-cd12-6657958ee8eb"
      },
      "source": [
        "for i in groupby_country.head(10).index:\n",
        "  plt.plot(grouped_country.loc[i][\"log_confirmed\"], grouped_country.loc[i][\"log_active\"],label= i)\n",
        "plt.xlabel('Confirmed Cases (Logrithmic)')\n",
        "plt.ylabel('Active Cases (Logrithmic)')\n",
        "plt.legend()\n",
        "plt.title('Active vs Confirmed of different Countries')\n",
        "plt.show()"
      ],
      "execution_count": null,
      "outputs": [
        {
          "output_type": "display_data",
          "data": {
            "image/png": "[encoded data removed]",
            "text/plain": [
              "<Figure size 432x288 with 1 Axes>"
            ]
          },
          "metadata": {
            "needs_background": "light"
          }
        }
      ]
    },
    {
      "cell_type": "code",
      "metadata": {
        "id": "78zYyqf7JV19"
      },
      "source": [
        "#Grouping different types of cases as per the date\n",
        "groupby_date=df.groupby([\"ObservationDate\"]).agg({\"Confirmed\":'sum',\"Recovered\":'sum',\"Deaths\":'sum'})\n",
        "# datewise[\"Days Since\"]=datewise.index-datewise.index.min()\n",
        "groupby_date[\"Days Since\"]=groupby_date.index-groupby_date.index.min()"
      ],
      "execution_count": null,
      "outputs": []
    },
    {
      "cell_type": "code",
      "metadata": {
        "id": "BT780NNZKWwR"
      },
      "source": [
        "# groupby_date.head()"
      ],
      "execution_count": null,
      "outputs": []
    },
    {
      "cell_type": "code",
      "metadata": {
        "colab": {
          "base_uri": "https://localhost:8080/",
          "height": 295
        },
        "id": "O3o6nYraMHcR",
        "outputId": "2e663543-0714-409b-ff9b-4085674f4696"
      },
      "source": [
        "plt.plot(groupby_date.index,groupby_date[\"Confirmed\"],color = 'cyan')\n",
        "plt.plot(groupby_date.index,groupby_date[\"Recovered\"],color = 'green')\n",
        "plt.plot(groupby_date.index,groupby_date[\"Deaths\"],color = 'orange')\n",
        "plt.plot(groupby_date.index,groupby_date[\"Confirmed\"]-groupby_date[\"Recovered\"]-groupby_date[\"Deaths\"],color = 'red')\n",
        "plt.xlabel('Date')\n",
        "plt.ylabel('Number of Cases (Millions)')\n",
        "plt.legend(['Confirmed','Recovered','Deaths','Active'])\n",
        "plt.title('Date vs Number of cases')\n",
        "plt.show()"
      ],
      "execution_count": null,
      "outputs": [
        {
          "output_type": "display_data",
          "data": {
            "image/png": "[encoded data removed]",
            "text/plain": [
              "<Figure size 432x288 with 1 Axes>"
            ]
          },
          "metadata": {
            "needs_background": "light"
          }
        }
      ]
    },
    {
      "cell_type": "code",
      "metadata": {
        "id": "-aEDTiQYw6eE"
      },
      "source": [
        "#Time Series Prediction \n",
        "rmse_scores =[]"
      ],
      "execution_count": null,
      "outputs": []
    },
    {
      "cell_type": "code",
      "metadata": {
        "id": "DUSIGkAr6BWE"
      },
      "source": [
        "model_training=groupby_date.iloc[:int(groupby_date.shape[0]*0.95)]\n",
        "test=groupby_date.iloc[int(groupby_date.shape[0]*0.95):]\n",
        "y_pred=test.copy()"
      ],
      "execution_count": null,
      "outputs": []
    },
    {
      "cell_type": "code",
      "metadata": {
        "colab": {
          "base_uri": "https://localhost:8080/"
        },
        "id": "n78Lp9Ty6BYf",
        "outputId": "3f3fc078-dc60-4adc-af38-181b6d72fbe7"
      },
      "source": [
        "#ARIMA Model using auto_arima\n",
        "arima_model_c= auto_arima(model_training[\"Confirmed\"],trace=True, error_action='ignore', start_p=1,start_q=1,max_p=3,max_q=3,suppress_warnings=True,stepwise=False,seasonal=False)\n",
        "arima_model_c.fit(model_training[\"Confirmed\"])"
      ],
      "execution_count": null,
      "outputs": [
        {
          "output_type": "stream",
          "name": "stdout",
          "text": [
            " ARIMA(0,2,0)(0,0,0)[0] intercept   : AIC=11809.478, Time=0.03 sec\n",
            " ARIMA(0,2,1)(0,0,0)[0] intercept   : AIC=11785.886, Time=0.07 sec\n",
            " ARIMA(0,2,2)(0,0,0)[0] intercept   : AIC=11738.463, Time=0.12 sec\n",
            " ARIMA(0,2,3)(0,0,0)[0] intercept   : AIC=11730.267, Time=0.21 sec\n",
            " ARIMA(1,2,0)(0,0,0)[0] intercept   : AIC=11798.602, Time=0.03 sec\n",
            " ARIMA(1,2,1)(0,0,0)[0] intercept   : AIC=11730.635, Time=0.13 sec\n",
            " ARIMA(1,2,2)(0,0,0)[0] intercept   : AIC=11753.103, Time=0.22 sec\n",
            " ARIMA(1,2,3)(0,0,0)[0] intercept   : AIC=11835.814, Time=0.34 sec\n",
            " ARIMA(2,2,0)(0,0,0)[0] intercept   : AIC=11798.849, Time=0.04 sec\n",
            " ARIMA(2,2,1)(0,0,0)[0] intercept   : AIC=11716.037, Time=0.31 sec\n",
            " ARIMA(2,2,2)(0,0,0)[0] intercept   : AIC=inf, Time=2.00 sec\n",
            " ARIMA(2,2,3)(0,0,0)[0] intercept   : AIC=11543.789, Time=0.95 sec\n",
            " ARIMA(3,2,0)(0,0,0)[0] intercept   : AIC=11750.641, Time=0.13 sec\n",
            " ARIMA(3,2,1)(0,0,0)[0] intercept   : AIC=11650.242, Time=0.27 sec\n",
            " ARIMA(3,2,2)(0,0,0)[0] intercept   : AIC=11534.633, Time=0.90 sec\n",
            "\n",
            "Best model:  ARIMA(3,2,2)(0,0,0)[0] intercept\n",
            "Total fit time: 5.785 seconds\n"
          ]
        },
        {
          "output_type": "execute_result",
          "data": {
            "text/plain": [
              "ARIMA(order=(3, 2, 2), scoring_args={}, suppress_warnings=True)"
            ]
          },
          "metadata": {},
          "execution_count": 95
        }
      ]
    },
    {
      "cell_type": "code",
      "metadata": {
        "id": "A-57kzs194mh"
      },
      "source": [
        "arima_pred_c=arima_model_c.predict(len(test))\n",
        "y_pred[\"ARIMA Model Prediction\"]=arima_pred_c"
      ],
      "execution_count": null,
      "outputs": []
    },
    {
      "cell_type": "code",
      "metadata": {
        "colab": {
          "base_uri": "https://localhost:8080/"
        },
        "id": "qJpNfi_e-ofC",
        "outputId": "f1c4a48d-551b-4f01-d5af-43f121bb3b1f"
      },
      "source": [
        "rmse_scores.append(np.sqrt(mean_squared_error(test[\"Confirmed\"],arima_pred_c)))\n",
        "print(\"RMSE for ARIMA Model: \",np.sqrt(mean_squared_error(test[\"Confirmed\"],arima_pred_c)))"
      ],
      "execution_count": null,
      "outputs": [
        {
          "output_type": "stream",
          "name": "stdout",
          "text": [
            "RMSE for ARIMA Model:  3160138.061025051\n"
          ]
        }
      ]
    },
    {
      "cell_type": "code",
      "metadata": {
        "colab": {
          "base_uri": "https://localhost:8080/",
          "height": 295
        },
        "id": "QxZ09J03DEWQ",
        "outputId": "01bfd6e3-4b98-4473-a053-a5f7ed0b02e9"
      },
      "source": [
        "plt.plot(model_training.index,model_training[\"Confirmed\"],color = 'blue')\n",
        "plt.plot(test.index,test[\"Confirmed\"],color = 'red')\n",
        "plt.plot(test.index,y_pred[\"ARIMA Model Prediction\"],color = 'cyan')\n",
        "plt.xlabel('Date')\n",
        "plt.ylabel('Confirmed Cases')\n",
        "plt.legend(['Training Data for Confirmed Cases','Test Data for Confirmed Cases','Prediction for Confirmed Cases'])\n",
        "plt.title('Prediction of Confirmed Cases using ARIMA Model')\n",
        "plt.show()"
      ],
      "execution_count": null,
      "outputs": [
        {
          "output_type": "display_data",
          "data": {
            "image/png": "[encoded data removed]",
            "text/plain": [
              "<Figure size 432x288 with 1 Axes>"
            ]
          },
          "metadata": {
            "needs_background": "light"
          }
        }
      ]
    },
    {
      "cell_type": "code",
      "metadata": {
        "colab": {
          "base_uri": "https://localhost:8080/",
          "height": 206
        },
        "id": "XAxv-2AYGbPR",
        "outputId": "22df89ef-6115-454d-dbf6-d785a326e6db"
      },
      "source": [
        "ARIMA_Confirmed_prediction=[]\n",
        "dates=[]\n",
        "for i in range(1,18):\n",
        "    dates.append(groupby_date.index[-1]+timedelta(days=i))\n",
        "    ARIMA_Confirmed_prediction.append(arima_model_c.predict(len(test)+i)[-1])\n",
        "predicted_models = pd.DataFrame(dates,columns=['Dates'])    \n",
        "predicted_models[\"ARIMA Model Prediction\"]=ARIMA_Confirmed_prediction\n",
        "predicted_models.head()"
      ],
      "execution_count": null,
      "outputs": [
        {
          "output_type": "execute_result",
          "data": {
            "text/html": [
              "<div>\n",
              "<style scoped>\n",
              "    .dataframe tbody tr th:only-of-type {\n",
              "        vertical-align: middle;\n",
              "    }\n",
              "\n",
              "    .dataframe tbody tr th {\n",
              "        vertical-align: top;\n",
              "    }\n",
              "\n",
              "    .dataframe thead th {\n",
              "        text-align: right;\n",
              "    }\n",
              "</style>\n",
              "<table border=\"1\" class=\"dataframe\">\n",
              "  <thead>\n",
              "    <tr style=\"text-align: right;\">\n",
              "      <th></th>\n",
              "      <th>Dates</th>\n",
              "      <th>ARIMA Model Prediction</th>\n",
              "    </tr>\n",
              "  </thead>\n",
              "  <tbody>\n",
              "    <tr>\n",
              "      <th>0</th>\n",
              "      <td>2021-05-30</td>\n",
              "      <td>1.774161e+08</td>\n",
              "    </tr>\n",
              "    <tr>\n",
              "      <th>1</th>\n",
              "      <td>2021-05-31</td>\n",
              "      <td>1.782993e+08</td>\n",
              "    </tr>\n",
              "    <tr>\n",
              "      <th>2</th>\n",
              "      <td>2021-06-01</td>\n",
              "      <td>1.792630e+08</td>\n",
              "    </tr>\n",
              "    <tr>\n",
              "      <th>3</th>\n",
              "      <td>2021-06-02</td>\n",
              "      <td>1.803118e+08</td>\n",
              "    </tr>\n",
              "    <tr>\n",
              "      <th>4</th>\n",
              "      <td>2021-06-03</td>\n",
              "      <td>1.813912e+08</td>\n",
              "    </tr>\n",
              "  </tbody>\n",
              "</table>\n",
              "</div>"
            ],
            "text/plain": [
              "       Dates  ARIMA Model Prediction\n",
              "0 2021-05-30            1.774161e+08\n",
              "1 2021-05-31            1.782993e+08\n",
              "2 2021-06-01            1.792630e+08\n",
              "3 2021-06-02            1.803118e+08\n",
              "4 2021-06-03            1.813912e+08"
            ]
          },
          "metadata": {},
          "execution_count": 99
        }
      ]
    },
    {
      "cell_type": "code",
      "metadata": {
        "colab": {
          "base_uri": "https://localhost:8080/",
          "height": 206
        },
        "id": "Ci1Oo3NGGnc9",
        "outputId": "2de5ae12-2d7b-44b7-f47d-5d8673ec76e3"
      },
      "source": [
        "#Prediction of Confirmed Cases using Facebooks Prophet Model\n",
        "prophet_model_c=Prophet(interval_width=0.95,weekly_seasonality=True,)\n",
        "prophet_confirmed_df=pd.DataFrame(zip(list(groupby_date.index),list(groupby_date[\"Confirmed\"])),columns=['ds','y'])\n",
        "prophet_confirmed_df.head()"
      ],
      "execution_count": null,
      "outputs": [
        {
          "output_type": "execute_result",
          "data": {
            "text/html": [
              "<div>\n",
              "<style scoped>\n",
              "    .dataframe tbody tr th:only-of-type {\n",
              "        vertical-align: middle;\n",
              "    }\n",
              "\n",
              "    .dataframe tbody tr th {\n",
              "        vertical-align: top;\n",
              "    }\n",
              "\n",
              "    .dataframe thead th {\n",
              "        text-align: right;\n",
              "    }\n",
              "</style>\n",
              "<table border=\"1\" class=\"dataframe\">\n",
              "  <thead>\n",
              "    <tr style=\"text-align: right;\">\n",
              "      <th></th>\n",
              "      <th>ds</th>\n",
              "      <th>y</th>\n",
              "    </tr>\n",
              "  </thead>\n",
              "  <tbody>\n",
              "    <tr>\n",
              "      <th>0</th>\n",
              "      <td>2020-01-22</td>\n",
              "      <td>557.0</td>\n",
              "    </tr>\n",
              "    <tr>\n",
              "      <th>1</th>\n",
              "      <td>2020-01-23</td>\n",
              "      <td>1097.0</td>\n",
              "    </tr>\n",
              "    <tr>\n",
              "      <th>2</th>\n",
              "      <td>2020-01-24</td>\n",
              "      <td>941.0</td>\n",
              "    </tr>\n",
              "    <tr>\n",
              "      <th>3</th>\n",
              "      <td>2020-01-25</td>\n",
              "      <td>1437.0</td>\n",
              "    </tr>\n",
              "    <tr>\n",
              "      <th>4</th>\n",
              "      <td>2020-01-26</td>\n",
              "      <td>2118.0</td>\n",
              "    </tr>\n",
              "  </tbody>\n",
              "</table>\n",
              "</div>"
            ],
            "text/plain": [
              "          ds       y\n",
              "0 2020-01-22   557.0\n",
              "1 2020-01-23  1097.0\n",
              "2 2020-01-24   941.0\n",
              "3 2020-01-25  1437.0\n",
              "4 2020-01-26  2118.0"
            ]
          },
          "metadata": {},
          "execution_count": 100
        }
      ]
    },
    {
      "cell_type": "code",
      "metadata": {
        "colab": {
          "base_uri": "https://localhost:8080/"
        },
        "id": "Z-bBtRBtOLsF",
        "outputId": "5e66a3a8-ac72-43fa-ce37-2042006cae21"
      },
      "source": [
        "prophet_model_c.fit(prophet_confirmed_df)"
      ],
      "execution_count": null,
      "outputs": [
        {
          "output_type": "stream",
          "name": "stderr",
          "text": [
            "INFO:fbprophet:Disabling yearly seasonality. Run prophet with yearly_seasonality=True to override this.\n",
            "INFO:fbprophet:Disabling daily seasonality. Run prophet with daily_seasonality=True to override this.\n"
          ]
        },
        {
          "output_type": "execute_result",
          "data": {
            "text/plain": [
              "<fbprophet.forecaster.Prophet at 0x7f2c4f797dd0>"
            ]
          },
          "metadata": {},
          "execution_count": 101
        }
      ]
    },
    {
      "cell_type": "code",
      "metadata": {
        "id": "PdrTNo7JOnQq"
      },
      "source": [
        "forecasting_c=prophet_model_c.make_future_dataframe(periods=17)\n",
        "forecasting_confirmed=forecasting_c.copy()"
      ],
      "execution_count": null,
      "outputs": []
    },
    {
      "cell_type": "code",
      "metadata": {
        "colab": {
          "base_uri": "https://localhost:8080/"
        },
        "id": "Gid2a_QsO44_",
        "outputId": "1ac99277-5dab-45a9-bc70-6669743a8f46"
      },
      "source": [
        "confirmed_forecast=prophet_model_c.predict(forecasting_c)\n",
        "print(confirmed_forecast[['ds','yhat', 'yhat_lower', 'yhat_upper']])"
      ],
      "execution_count": null,
      "outputs": [
        {
          "output_type": "stream",
          "name": "stdout",
          "text": [
            "            ds          yhat    yhat_lower    yhat_upper\n",
            "0   2020-01-22 -1.279650e+05 -2.049320e+06  1.911520e+06\n",
            "1   2020-01-23 -7.293718e+04 -2.126449e+06  1.937128e+06\n",
            "2   2020-01-24 -2.795659e+04 -2.120814e+06  1.905926e+06\n",
            "3   2020-01-25 -2.723673e+04 -2.149090e+06  1.903299e+06\n",
            "4   2020-01-26 -8.550744e+04 -2.112425e+06  1.935867e+06\n",
            "..         ...           ...           ...           ...\n",
            "506 2021-06-11  1.770610e+08  1.749611e+08  1.792968e+08\n",
            "507 2021-06-12  1.776808e+08  1.753403e+08  1.800471e+08\n",
            "508 2021-06-13  1.782416e+08  1.760506e+08  1.805660e+08\n",
            "509 2021-06-14  1.788133e+08  1.763971e+08  1.814137e+08\n",
            "510 2021-06-15  1.794377e+08  1.770359e+08  1.818293e+08\n",
            "\n",
            "[511 rows x 4 columns]\n"
          ]
        }
      ]
    },
    {
      "cell_type": "code",
      "metadata": {
        "colab": {
          "base_uri": "https://localhost:8080/"
        },
        "id": "qhD3r6F2PEaS",
        "outputId": "f4ef112a-eb0c-49ae-f9a8-910333d69571"
      },
      "source": [
        "rmse_scores.append(np.sqrt(mean_squared_error(groupby_date[\"Confirmed\"],confirmed_forecast['yhat'].head(groupby_date.shape[0]))))\n",
        "print(\"RMSE for Prophet Model: \",np.sqrt(mean_squared_error(groupby_date[\"Confirmed\"],confirmed_forecast['yhat'].head(groupby_date.shape[0]))))"
      ],
      "execution_count": null,
      "outputs": [
        {
          "output_type": "stream",
          "name": "stdout",
          "text": [
            "RMSE for Prophet Model:  1025041.3391496495\n"
          ]
        }
      ]
    },
    {
      "cell_type": "code",
      "metadata": {
        "colab": {
          "base_uri": "https://localhost:8080/",
          "height": 458
        },
        "id": "lpEZSRQKPLLz",
        "outputId": "e4da36ad-f07a-4e5a-ff57-8ab60bd5b7cb"
      },
      "source": [
        "print(prophet_model_c.plot(confirmed_forecast, xlabel='Date', ylabel='Confirmed Cases' ))"
      ],
      "execution_count": null,
      "outputs": [
        {
          "output_type": "stream",
          "name": "stdout",
          "text": [
            "Figure(720x432)\n"
          ]
        },
        {
          "output_type": "display_data",
          "data": {
            "image/png": "[encoded data removed]",
            "text/plain": [
              "<Figure size 720x432 with 1 Axes>"
            ]
          },
          "metadata": {}
        }
      ]
    },
    {
      "cell_type": "code",
      "metadata": {
        "colab": {
          "base_uri": "https://localhost:8080/",
          "height": 458
        },
        "id": "MAVtYdt3Pjqx",
        "outputId": "bfe76823-ae7f-4a05-f5ed-394e5bfefee8"
      },
      "source": [
        "print(prophet_model_c.plot_components(confirmed_forecast))"
      ],
      "execution_count": null,
      "outputs": [
        {
          "output_type": "stream",
          "name": "stdout",
          "text": [
            "Figure(648x432)\n"
          ]
        },
        {
          "output_type": "display_data",
          "data": {
            "image/png": "[encoded data removed]",
            "text/plain": [
              "<Figure size 648x432 with 2 Axes>"
            ]
          },
          "metadata": {}
        }
      ]
    },
    {
      "cell_type": "code",
      "metadata": {
        "colab": {
          "base_uri": "https://localhost:8080/",
          "height": 112
        },
        "id": "K16f0LRRPkCS",
        "outputId": "28f5fd43-7bcb-4095-e5e8-4d2b26009d9b"
      },
      "source": [
        "model_names=[\"ARIMA Model\",\"Facebook's Prophet Model\"]\n",
        "model_summary=pd.DataFrame(zip(model_names,rmse_scores),columns=[\"Model Name\",\"RMSE\"]).sort_values([\"RMSE\"])\n",
        "model_summary"
      ],
      "execution_count": null,
      "outputs": [
        {
          "output_type": "execute_result",
          "data": {
            "text/html": [
              "<div>\n",
              "<style scoped>\n",
              "    .dataframe tbody tr th:only-of-type {\n",
              "        vertical-align: middle;\n",
              "    }\n",
              "\n",
              "    .dataframe tbody tr th {\n",
              "        vertical-align: top;\n",
              "    }\n",
              "\n",
              "    .dataframe thead th {\n",
              "        text-align: right;\n",
              "    }\n",
              "</style>\n",
              "<table border=\"1\" class=\"dataframe\">\n",
              "  <thead>\n",
              "    <tr style=\"text-align: right;\">\n",
              "      <th></th>\n",
              "      <th>Model Name</th>\n",
              "      <th>RMSE</th>\n",
              "    </tr>\n",
              "  </thead>\n",
              "  <tbody>\n",
              "    <tr>\n",
              "      <th>1</th>\n",
              "      <td>Facebook's Prophet Model</td>\n",
              "      <td>1.025041e+06</td>\n",
              "    </tr>\n",
              "    <tr>\n",
              "      <th>0</th>\n",
              "      <td>ARIMA Model</td>\n",
              "      <td>3.160138e+06</td>\n",
              "    </tr>\n",
              "  </tbody>\n",
              "</table>\n",
              "</div>"
            ],
            "text/plain": [
              "                 Model Name          RMSE\n",
              "1  Facebook's Prophet Model  1.025041e+06\n",
              "0               ARIMA Model  3.160138e+06"
            ]
          },
          "metadata": {},
          "execution_count": 107
        }
      ]
    },
    {
      "cell_type": "code",
      "metadata": {
        "id": "BsaKMIf0js1H"
      },
      "source": [
        "model_training=groupby_date.iloc[:int(groupby_date.shape[0]*0.95)]\n",
        "test=groupby_date.iloc[int(groupby_date.shape[0]*0.95):]\n",
        "y_pred=test.copy()"
      ],
      "execution_count": null,
      "outputs": []
    },
    {
      "cell_type": "code",
      "metadata": {
        "colab": {
          "base_uri": "https://localhost:8080/"
        },
        "id": "VzyTkMEuj9p1",
        "outputId": "6522dd35-c027-44ef-848e-b920d9eb47c8"
      },
      "source": [
        "#ARIMA Model using auto_arima\n",
        "arima_model_c= auto_arima(model_training[\"Deaths\"],trace=True, error_action='ignore', start_p=1,start_q=1,max_p=3,max_q=3,suppress_warnings=True,stepwise=False,seasonal=False)\n",
        "arima_model_c.fit(model_training[\"Deaths\"])"
      ],
      "execution_count": null,
      "outputs": [
        {
          "output_type": "stream",
          "name": "stdout",
          "text": [
            " ARIMA(0,2,0)(0,0,0)[0] intercept   : AIC=8372.566, Time=0.02 sec\n",
            " ARIMA(0,2,1)(0,0,0)[0] intercept   : AIC=8373.587, Time=0.07 sec\n",
            " ARIMA(0,2,2)(0,0,0)[0] intercept   : AIC=8257.762, Time=0.36 sec\n",
            " ARIMA(0,2,3)(0,0,0)[0] intercept   : AIC=8225.545, Time=0.89 sec\n",
            " ARIMA(1,2,0)(0,0,0)[0] intercept   : AIC=8374.053, Time=0.03 sec\n",
            " ARIMA(1,2,1)(0,0,0)[0] intercept   : AIC=8283.551, Time=0.81 sec\n",
            " ARIMA(1,2,2)(0,0,0)[0] intercept   : AIC=8246.770, Time=0.92 sec\n",
            " ARIMA(1,2,3)(0,0,0)[0] intercept   : AIC=8206.469, Time=1.16 sec\n",
            " ARIMA(2,2,0)(0,0,0)[0] intercept   : AIC=8343.019, Time=0.07 sec\n",
            " ARIMA(2,2,1)(0,0,0)[0] intercept   : AIC=8201.054, Time=0.78 sec\n",
            " ARIMA(2,2,2)(0,0,0)[0] intercept   : AIC=8079.128, Time=1.08 sec\n",
            " ARIMA(2,2,3)(0,0,0)[0] intercept   : AIC=8032.472, Time=1.26 sec\n",
            " ARIMA(3,2,0)(0,0,0)[0] intercept   : AIC=8298.821, Time=0.12 sec\n",
            " ARIMA(3,2,1)(0,0,0)[0] intercept   : AIC=8164.503, Time=0.97 sec\n",
            " ARIMA(3,2,2)(0,0,0)[0] intercept   : AIC=8206.161, Time=1.28 sec\n",
            "\n",
            "Best model:  ARIMA(2,2,3)(0,0,0)[0] intercept\n",
            "Total fit time: 9.860 seconds\n"
          ]
        },
        {
          "output_type": "execute_result",
          "data": {
            "text/plain": [
              "ARIMA(order=(2, 2, 3), scoring_args={}, suppress_warnings=True)"
            ]
          },
          "metadata": {},
          "execution_count": 109
        }
      ]
    },
    {
      "cell_type": "code",
      "metadata": {
        "id": "7o-u4gDbkGqZ"
      },
      "source": [
        "arima_pred_c=arima_model_c.predict(len(test))\n",
        "y_pred[\"ARIMA Deaths Prediction\"]=arima_pred_c"
      ],
      "execution_count": null,
      "outputs": []
    },
    {
      "cell_type": "code",
      "metadata": {
        "colab": {
          "base_uri": "https://localhost:8080/"
        },
        "id": "OPuQ2x3ikc5-",
        "outputId": "88ce9867-3886-43a3-9ae7-48c3dc3c2f0d"
      },
      "source": [
        "rmse_scores.append(np.sqrt(mean_squared_error(test[\"Deaths\"],arima_pred_c)))\n",
        "print(\"RMSE for ARIMA Model: \",np.sqrt(mean_squared_error(test[\"Deaths\"],arima_pred_c)))"
      ],
      "execution_count": null,
      "outputs": [
        {
          "output_type": "stream",
          "name": "stdout",
          "text": [
            "RMSE for ARIMA Model:  21815.720598717322\n"
          ]
        }
      ]
    },
    {
      "cell_type": "code",
      "metadata": {
        "colab": {
          "base_uri": "https://localhost:8080/",
          "height": 295
        },
        "id": "Ut9P2-iSkje_",
        "outputId": "cfad4399-d5b7-467c-8ee0-cef99c16bca7"
      },
      "source": [
        "plt.plot(model_training.index,model_training[\"Deaths\"],color = 'blue')\n",
        "plt.plot(test.index,test[\"Deaths\"],color = 'red')\n",
        "plt.plot(test.index,y_pred[\"ARIMA Deaths Prediction\"],color = 'cyan')\n",
        "plt.xlabel('Date')\n",
        "plt.ylabel('Deaths Cases')\n",
        "plt.legend(['Training Data for Deaths Cases','Test Data for Deaths Cases','Prediction for Deaths Cases'])\n",
        "plt.title('Prediction of Deaths Cases using ARIMA Model')\n",
        "plt.show()"
      ],
      "execution_count": null,
      "outputs": [
        {
          "output_type": "display_data",
          "data": {
            "image/png": "[encoded data removed]",
            "text/plain": [
              "<Figure size 432x288 with 1 Axes>"
            ]
          },
          "metadata": {
            "needs_background": "light"
          }
        }
      ]
    },
    {
      "cell_type": "code",
      "metadata": {
        "id": "zYkm8HdMk9aX"
      },
      "source": [
        "ARIMA_Death_prediction=[]\n",
        "for i in range(1,18):\n",
        "    ARIMA_Death_prediction.append(arima_model_c.predict(len(test)+i)[-1])"
      ],
      "execution_count": null,
      "outputs": []
    },
    {
      "cell_type": "code",
      "metadata": {
        "colab": {
          "base_uri": "https://localhost:8080/",
          "height": 582
        },
        "id": "krryyqGdlucw",
        "outputId": "b5ef18f3-a606-44be-8624-0d1503b71ecb"
      },
      "source": [
        "pd.DataFrame(zip(dates,ARIMA_Death_prediction),columns=['Deaths','ARIMA_Death_prediction']) "
      ],
      "execution_count": null,
      "outputs": [
        {
          "output_type": "execute_result",
          "data": {
            "text/html": [
              "<div>\n",
              "<style scoped>\n",
              "    .dataframe tbody tr th:only-of-type {\n",
              "        vertical-align: middle;\n",
              "    }\n",
              "\n",
              "    .dataframe tbody tr th {\n",
              "        vertical-align: top;\n",
              "    }\n",
              "\n",
              "    .dataframe thead th {\n",
              "        text-align: right;\n",
              "    }\n",
              "</style>\n",
              "<table border=\"1\" class=\"dataframe\">\n",
              "  <thead>\n",
              "    <tr style=\"text-align: right;\">\n",
              "      <th></th>\n",
              "      <th>Deaths</th>\n",
              "      <th>ARIMA_Death_prediction</th>\n",
              "    </tr>\n",
              "  </thead>\n",
              "  <tbody>\n",
              "    <tr>\n",
              "      <th>0</th>\n",
              "      <td>2021-05-30</td>\n",
              "      <td>3.590316e+06</td>\n",
              "    </tr>\n",
              "    <tr>\n",
              "      <th>1</th>\n",
              "      <td>2021-05-31</td>\n",
              "      <td>3.602595e+06</td>\n",
              "    </tr>\n",
              "    <tr>\n",
              "      <th>2</th>\n",
              "      <td>2021-06-01</td>\n",
              "      <td>3.616802e+06</td>\n",
              "    </tr>\n",
              "    <tr>\n",
              "      <th>3</th>\n",
              "      <td>2021-06-02</td>\n",
              "      <td>3.633077e+06</td>\n",
              "    </tr>\n",
              "    <tr>\n",
              "      <th>4</th>\n",
              "      <td>2021-06-03</td>\n",
              "      <td>3.650049e+06</td>\n",
              "    </tr>\n",
              "    <tr>\n",
              "      <th>5</th>\n",
              "      <td>2021-06-04</td>\n",
              "      <td>3.665852e+06</td>\n",
              "    </tr>\n",
              "    <tr>\n",
              "      <th>6</th>\n",
              "      <td>2021-06-05</td>\n",
              "      <td>3.679522e+06</td>\n",
              "    </tr>\n",
              "    <tr>\n",
              "      <th>7</th>\n",
              "      <td>2021-06-06</td>\n",
              "      <td>3.691710e+06</td>\n",
              "    </tr>\n",
              "    <tr>\n",
              "      <th>8</th>\n",
              "      <td>2021-06-07</td>\n",
              "      <td>3.704200e+06</td>\n",
              "    </tr>\n",
              "    <tr>\n",
              "      <th>9</th>\n",
              "      <td>2021-06-08</td>\n",
              "      <td>3.718577e+06</td>\n",
              "    </tr>\n",
              "    <tr>\n",
              "      <th>10</th>\n",
              "      <td>2021-06-09</td>\n",
              "      <td>3.735050e+06</td>\n",
              "    </tr>\n",
              "    <tr>\n",
              "      <th>11</th>\n",
              "      <td>2021-06-10</td>\n",
              "      <td>3.752291e+06</td>\n",
              "    </tr>\n",
              "    <tr>\n",
              "      <th>12</th>\n",
              "      <td>2021-06-11</td>\n",
              "      <td>3.768430e+06</td>\n",
              "    </tr>\n",
              "    <tr>\n",
              "      <th>13</th>\n",
              "      <td>2021-06-12</td>\n",
              "      <td>3.782445e+06</td>\n",
              "    </tr>\n",
              "    <tr>\n",
              "      <th>14</th>\n",
              "      <td>2021-06-13</td>\n",
              "      <td>3.794923e+06</td>\n",
              "    </tr>\n",
              "    <tr>\n",
              "      <th>15</th>\n",
              "      <td>2021-06-14</td>\n",
              "      <td>3.807626e+06</td>\n",
              "    </tr>\n",
              "    <tr>\n",
              "      <th>16</th>\n",
              "      <td>2021-06-15</td>\n",
              "      <td>3.822175e+06</td>\n",
              "    </tr>\n",
              "  </tbody>\n",
              "</table>\n",
              "</div>"
            ],
            "text/plain": [
              "       Deaths  ARIMA_Death_prediction\n",
              "0  2021-05-30            3.590316e+06\n",
              "1  2021-05-31            3.602595e+06\n",
              "2  2021-06-01            3.616802e+06\n",
              "3  2021-06-02            3.633077e+06\n",
              "4  2021-06-03            3.650049e+06\n",
              "5  2021-06-04            3.665852e+06\n",
              "6  2021-06-05            3.679522e+06\n",
              "7  2021-06-06            3.691710e+06\n",
              "8  2021-06-07            3.704200e+06\n",
              "9  2021-06-08            3.718577e+06\n",
              "10 2021-06-09            3.735050e+06\n",
              "11 2021-06-10            3.752291e+06\n",
              "12 2021-06-11            3.768430e+06\n",
              "13 2021-06-12            3.782445e+06\n",
              "14 2021-06-13            3.794923e+06\n",
              "15 2021-06-14            3.807626e+06\n",
              "16 2021-06-15            3.822175e+06"
            ]
          },
          "metadata": {},
          "execution_count": 114
        }
      ]
    }
  ]
}